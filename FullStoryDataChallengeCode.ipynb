{
 "cells": [
  {
   "cell_type": "code",
   "execution_count": 1,
   "metadata": {},
   "outputs": [],
   "source": [
    "#Include necessary libraries\n",
    "\n",
    "import numpy as np\n",
    "import pandas as pd\n",
    "import matplotlib.pyplot as plt\n",
    "import seaborn as sns\n",
    "from datetime import datetime\n",
    "% matplotlib inline"
   ]
  },
  {
   "cell_type": "code",
   "execution_count": 2,
   "metadata": {},
   "outputs": [],
   "source": [
    "#REading the dataset\n",
    "\n",
    "YellowCabJuneData = pd.read_csv(\"yellow_tripdata_2017-06.csv\")"
   ]
  },
  {
   "cell_type": "code",
   "execution_count": 3,
   "metadata": {},
   "outputs": [
    {
     "data": {
      "text/plain": [
       "(9656993, 17)"
      ]
     },
     "execution_count": 3,
     "metadata": {},
     "output_type": "execute_result"
    }
   ],
   "source": [
    "YellowCabJuneData.shape"
   ]
  },
  {
   "cell_type": "code",
   "execution_count": 4,
   "metadata": {},
   "outputs": [
    {
     "data": {
      "text/plain": [
       "Index(['VendorID', 'tpep_pickup_datetime', 'tpep_dropoff_datetime',\n",
       "       'passenger_count', 'trip_distance', 'RatecodeID', 'store_and_fwd_flag',\n",
       "       'PULocationID', 'DOLocationID', 'payment_type', 'fare_amount', 'extra',\n",
       "       'mta_tax', 'tip_amount', 'tolls_amount', 'improvement_surcharge',\n",
       "       'total_amount'],\n",
       "      dtype='object')"
      ]
     },
     "execution_count": 4,
     "metadata": {},
     "output_type": "execute_result"
    }
   ],
   "source": [
    "YellowCabJuneData.columns"
   ]
  },
  {
   "cell_type": "code",
   "execution_count": 5,
   "metadata": {},
   "outputs": [
    {
     "data": {
      "text/plain": [
       "'\\n1) Data Exploration - Distribution of categorical variables, Day/Week/Weekday trip distribution\\n2) Data Exploration - Range of Numerical variables, Outline any outliers based on the dataset\\n3) Collect basic statistics; count, count distribution, hottest areas, tips based on area, time of the day, day of the week,\\n\\n'"
      ]
     },
     "execution_count": 5,
     "metadata": {},
     "output_type": "execute_result"
    }
   ],
   "source": [
    "#Steps before processding\n",
    "\"\"\"\n",
    "1) Data Exploration - Distribution of categorical variables, Day/Week/Weekday trip distribution\n",
    "2) Data Exploration - Range of Numerical variables, Outline any outliers based on the dataset\n",
    "3) Collect basic statistics; count, count distribution, hottest areas, tips based on area, time of the day, day of the week,\n",
    "\n",
    "\"\"\""
   ]
  },
  {
   "cell_type": "code",
   "execution_count": 7,
   "metadata": {},
   "outputs": [
    {
     "data": {
      "text/plain": [
       "VendorID                   int64\n",
       "tpep_pickup_datetime      object\n",
       "tpep_dropoff_datetime     object\n",
       "passenger_count            int64\n",
       "trip_distance            float64\n",
       "RatecodeID                 int64\n",
       "store_and_fwd_flag        object\n",
       "PULocationID               int64\n",
       "DOLocationID               int64\n",
       "payment_type               int64\n",
       "fare_amount              float64\n",
       "extra                    float64\n",
       "mta_tax                  float64\n",
       "tip_amount               float64\n",
       "tolls_amount             float64\n",
       "improvement_surcharge    float64\n",
       "total_amount             float64\n",
       "dtype: object"
      ]
     },
     "execution_count": 7,
     "metadata": {},
     "output_type": "execute_result"
    }
   ],
   "source": [
    "# check datatypes of each variable\n",
    "\n",
    "YellowCabJuneData.dtypes"
   ]
  },
  {
   "cell_type": "code",
   "execution_count": 8,
   "metadata": {},
   "outputs": [
    {
     "data": {
      "text/html": [
       "<div>\n",
       "<style scoped>\n",
       "    .dataframe tbody tr th:only-of-type {\n",
       "        vertical-align: middle;\n",
       "    }\n",
       "\n",
       "    .dataframe tbody tr th {\n",
       "        vertical-align: top;\n",
       "    }\n",
       "\n",
       "    .dataframe thead th {\n",
       "        text-align: right;\n",
       "    }\n",
       "</style>\n",
       "<table border=\"1\" class=\"dataframe\">\n",
       "  <thead>\n",
       "    <tr style=\"text-align: right;\">\n",
       "      <th></th>\n",
       "      <th>VendorID</th>\n",
       "      <th>passenger_count</th>\n",
       "      <th>trip_distance</th>\n",
       "      <th>RatecodeID</th>\n",
       "      <th>PULocationID</th>\n",
       "      <th>DOLocationID</th>\n",
       "      <th>payment_type</th>\n",
       "      <th>fare_amount</th>\n",
       "      <th>extra</th>\n",
       "      <th>mta_tax</th>\n",
       "      <th>tip_amount</th>\n",
       "      <th>tolls_amount</th>\n",
       "      <th>improvement_surcharge</th>\n",
       "      <th>total_amount</th>\n",
       "    </tr>\n",
       "  </thead>\n",
       "  <tbody>\n",
       "    <tr>\n",
       "      <th>count</th>\n",
       "      <td>9.656993e+06</td>\n",
       "      <td>9.656993e+06</td>\n",
       "      <td>9.656993e+06</td>\n",
       "      <td>9.656993e+06</td>\n",
       "      <td>9.656993e+06</td>\n",
       "      <td>9.656993e+06</td>\n",
       "      <td>9.656993e+06</td>\n",
       "      <td>9.656993e+06</td>\n",
       "      <td>9.656993e+06</td>\n",
       "      <td>9.656993e+06</td>\n",
       "      <td>9.656993e+06</td>\n",
       "      <td>9.656993e+06</td>\n",
       "      <td>9.656993e+06</td>\n",
       "      <td>9.656993e+06</td>\n",
       "    </tr>\n",
       "    <tr>\n",
       "      <th>mean</th>\n",
       "      <td>1.546961e+00</td>\n",
       "      <td>1.623943e+00</td>\n",
       "      <td>2.978617e+00</td>\n",
       "      <td>1.045527e+00</td>\n",
       "      <td>1.626235e+02</td>\n",
       "      <td>1.607379e+02</td>\n",
       "      <td>1.334040e+00</td>\n",
       "      <td>1.328727e+01</td>\n",
       "      <td>3.413314e-01</td>\n",
       "      <td>4.972247e-01</td>\n",
       "      <td>1.878480e+00</td>\n",
       "      <td>3.376697e-01</td>\n",
       "      <td>2.996046e-01</td>\n",
       "      <td>1.664632e+01</td>\n",
       "    </tr>\n",
       "    <tr>\n",
       "      <th>std</th>\n",
       "      <td>4.977898e-01</td>\n",
       "      <td>1.264608e+00</td>\n",
       "      <td>5.704095e+00</td>\n",
       "      <td>5.665036e-01</td>\n",
       "      <td>6.675223e+01</td>\n",
       "      <td>7.047343e+01</td>\n",
       "      <td>4.929622e-01</td>\n",
       "      <td>2.151675e+02</td>\n",
       "      <td>4.623294e-01</td>\n",
       "      <td>7.625157e-02</td>\n",
       "      <td>2.696221e+00</td>\n",
       "      <td>2.022799e+00</td>\n",
       "      <td>1.441594e-02</td>\n",
       "      <td>2.153387e+02</td>\n",
       "    </tr>\n",
       "    <tr>\n",
       "      <th>min</th>\n",
       "      <td>1.000000e+00</td>\n",
       "      <td>0.000000e+00</td>\n",
       "      <td>0.000000e+00</td>\n",
       "      <td>1.000000e+00</td>\n",
       "      <td>1.000000e+00</td>\n",
       "      <td>1.000000e+00</td>\n",
       "      <td>1.000000e+00</td>\n",
       "      <td>-5.500000e+02</td>\n",
       "      <td>-5.056000e+01</td>\n",
       "      <td>-5.000000e-01</td>\n",
       "      <td>-7.400000e+01</td>\n",
       "      <td>-1.250000e+01</td>\n",
       "      <td>-3.000000e-01</td>\n",
       "      <td>-5.503000e+02</td>\n",
       "    </tr>\n",
       "    <tr>\n",
       "      <th>25%</th>\n",
       "      <td>1.000000e+00</td>\n",
       "      <td>1.000000e+00</td>\n",
       "      <td>1.000000e+00</td>\n",
       "      <td>1.000000e+00</td>\n",
       "      <td>1.140000e+02</td>\n",
       "      <td>1.070000e+02</td>\n",
       "      <td>1.000000e+00</td>\n",
       "      <td>6.500000e+00</td>\n",
       "      <td>0.000000e+00</td>\n",
       "      <td>5.000000e-01</td>\n",
       "      <td>0.000000e+00</td>\n",
       "      <td>0.000000e+00</td>\n",
       "      <td>3.000000e-01</td>\n",
       "      <td>8.750000e+00</td>\n",
       "    </tr>\n",
       "    <tr>\n",
       "      <th>50%</th>\n",
       "      <td>2.000000e+00</td>\n",
       "      <td>1.000000e+00</td>\n",
       "      <td>1.670000e+00</td>\n",
       "      <td>1.000000e+00</td>\n",
       "      <td>1.620000e+02</td>\n",
       "      <td>1.620000e+02</td>\n",
       "      <td>1.000000e+00</td>\n",
       "      <td>9.500000e+00</td>\n",
       "      <td>0.000000e+00</td>\n",
       "      <td>5.000000e-01</td>\n",
       "      <td>1.360000e+00</td>\n",
       "      <td>0.000000e+00</td>\n",
       "      <td>3.000000e-01</td>\n",
       "      <td>1.185000e+01</td>\n",
       "    </tr>\n",
       "    <tr>\n",
       "      <th>75%</th>\n",
       "      <td>2.000000e+00</td>\n",
       "      <td>2.000000e+00</td>\n",
       "      <td>3.100000e+00</td>\n",
       "      <td>1.000000e+00</td>\n",
       "      <td>2.330000e+02</td>\n",
       "      <td>2.330000e+02</td>\n",
       "      <td>2.000000e+00</td>\n",
       "      <td>1.500000e+01</td>\n",
       "      <td>5.000000e-01</td>\n",
       "      <td>5.000000e-01</td>\n",
       "      <td>2.460000e+00</td>\n",
       "      <td>0.000000e+00</td>\n",
       "      <td>3.000000e-01</td>\n",
       "      <td>1.817000e+01</td>\n",
       "    </tr>\n",
       "    <tr>\n",
       "      <th>max</th>\n",
       "      <td>2.000000e+00</td>\n",
       "      <td>9.000000e+00</td>\n",
       "      <td>9.496980e+03</td>\n",
       "      <td>9.900000e+01</td>\n",
       "      <td>2.650000e+02</td>\n",
       "      <td>2.650000e+02</td>\n",
       "      <td>5.000000e+00</td>\n",
       "      <td>6.304618e+05</td>\n",
       "      <td>2.250000e+01</td>\n",
       "      <td>1.400000e+02</td>\n",
       "      <td>4.440000e+02</td>\n",
       "      <td>9.900000e+02</td>\n",
       "      <td>1.000000e+00</td>\n",
       "      <td>6.304631e+05</td>\n",
       "    </tr>\n",
       "  </tbody>\n",
       "</table>\n",
       "</div>"
      ],
      "text/plain": [
       "           VendorID  passenger_count  trip_distance    RatecodeID  \\\n",
       "count  9.656993e+06     9.656993e+06   9.656993e+06  9.656993e+06   \n",
       "mean   1.546961e+00     1.623943e+00   2.978617e+00  1.045527e+00   \n",
       "std    4.977898e-01     1.264608e+00   5.704095e+00  5.665036e-01   \n",
       "min    1.000000e+00     0.000000e+00   0.000000e+00  1.000000e+00   \n",
       "25%    1.000000e+00     1.000000e+00   1.000000e+00  1.000000e+00   \n",
       "50%    2.000000e+00     1.000000e+00   1.670000e+00  1.000000e+00   \n",
       "75%    2.000000e+00     2.000000e+00   3.100000e+00  1.000000e+00   \n",
       "max    2.000000e+00     9.000000e+00   9.496980e+03  9.900000e+01   \n",
       "\n",
       "       PULocationID  DOLocationID  payment_type   fare_amount         extra  \\\n",
       "count  9.656993e+06  9.656993e+06  9.656993e+06  9.656993e+06  9.656993e+06   \n",
       "mean   1.626235e+02  1.607379e+02  1.334040e+00  1.328727e+01  3.413314e-01   \n",
       "std    6.675223e+01  7.047343e+01  4.929622e-01  2.151675e+02  4.623294e-01   \n",
       "min    1.000000e+00  1.000000e+00  1.000000e+00 -5.500000e+02 -5.056000e+01   \n",
       "25%    1.140000e+02  1.070000e+02  1.000000e+00  6.500000e+00  0.000000e+00   \n",
       "50%    1.620000e+02  1.620000e+02  1.000000e+00  9.500000e+00  0.000000e+00   \n",
       "75%    2.330000e+02  2.330000e+02  2.000000e+00  1.500000e+01  5.000000e-01   \n",
       "max    2.650000e+02  2.650000e+02  5.000000e+00  6.304618e+05  2.250000e+01   \n",
       "\n",
       "            mta_tax    tip_amount  tolls_amount  improvement_surcharge  \\\n",
       "count  9.656993e+06  9.656993e+06  9.656993e+06           9.656993e+06   \n",
       "mean   4.972247e-01  1.878480e+00  3.376697e-01           2.996046e-01   \n",
       "std    7.625157e-02  2.696221e+00  2.022799e+00           1.441594e-02   \n",
       "min   -5.000000e-01 -7.400000e+01 -1.250000e+01          -3.000000e-01   \n",
       "25%    5.000000e-01  0.000000e+00  0.000000e+00           3.000000e-01   \n",
       "50%    5.000000e-01  1.360000e+00  0.000000e+00           3.000000e-01   \n",
       "75%    5.000000e-01  2.460000e+00  0.000000e+00           3.000000e-01   \n",
       "max    1.400000e+02  4.440000e+02  9.900000e+02           1.000000e+00   \n",
       "\n",
       "       total_amount  \n",
       "count  9.656993e+06  \n",
       "mean   1.664632e+01  \n",
       "std    2.153387e+02  \n",
       "min   -5.503000e+02  \n",
       "25%    8.750000e+00  \n",
       "50%    1.185000e+01  \n",
       "75%    1.817000e+01  \n",
       "max    6.304631e+05  "
      ]
     },
     "execution_count": 8,
     "metadata": {},
     "output_type": "execute_result"
    }
   ],
   "source": [
    "# check statistics of the features\n",
    "\n",
    "YellowCabJuneData.describe()"
   ]
  },
  {
   "cell_type": "markdown",
   "metadata": {},
   "source": [
    "# Data Cleaning"
   ]
  },
  {
   "cell_type": "code",
   "execution_count": 9,
   "metadata": {},
   "outputs": [
    {
     "data": {
      "text/plain": [
       "'\\nFew things to notice about the dataset:\\n1) Vendor ID does not give important information related to the problem statement\\n2) Min and Max passenger counts are 0 and 9 respectively\\n3) Min trip distance is 0; we need to remove the records having trip distance = 0\\n4) Max Rate Code ID is 99 which is not in the data dictionary. We need to check the other invalid values present in the Rate\\n   Code ID. \\n5) There are some negative fare amount; we need to remove the records having fare amount < 0\\n6) There are some negative extra charges; we need to remove the records having invalid extra charges.\\n7) There are some negative MTA_tax charges; we need to remove the records having invalid MTA_tax charges.\\n8) There are some negative tip amount; we need to remove the records having invalid tip amount.\\n9) There are some negative tolls amount; we need to remove the records having invalid tolls amount.\\n10) There are some invalid values for improvement surcharges; we need to remove the records having invalid improvement\\n    surcharges.\\n11) There are some negative values for total amount; we need to remove the records having invalid total amounts.\\n\\n'"
      ]
     },
     "execution_count": 9,
     "metadata": {},
     "output_type": "execute_result"
    }
   ],
   "source": [
    "\"\"\"\n",
    "Few things to notice about the dataset:\n",
    "1) Vendor ID does not give important information related to the problem statement\n",
    "2) Min and Max passenger counts are 0 and 9 respectively\n",
    "3) Min trip distance is 0; we need to remove the records having trip distance = 0\n",
    "4) Max Rate Code ID is 99 which is not in the data dictionary. We need to check the other invalid values present in the Rate\n",
    "   Code ID. \n",
    "5) There are some negative fare amount; we need to remove the records having fare amount < 0\n",
    "6) There are some negative extra charges; we need to remove the records having invalid extra charges.\n",
    "7) There are some negative MTA_tax charges; we need to remove the records having invalid MTA_tax charges.\n",
    "8) There are some negative tip amount; we need to remove the records having invalid tip amount.\n",
    "9) There are some negative tolls amount; we need to remove the records having invalid tolls amount.\n",
    "10) There are some invalid values for improvement surcharges; we need to remove the records having invalid improvement\n",
    "    surcharges.\n",
    "11) There are some negative values for total amount; we need to remove the records having invalid total amounts.\n",
    "\n",
    "\"\"\""
   ]
  },
  {
   "cell_type": "code",
   "execution_count": null,
   "metadata": {},
   "outputs": [],
   "source": [
    "#From the above observations/comments, clean the dataset removing outliers and invalid values\n",
    "\n",
    "#************Passenger Count***************\n",
    "\n",
    "#Lets check the frequency of different passenger count\n",
    "\n",
    "#YellowCabJuneData.passenger_count.value_counts()\n",
    "\n",
    "# There are 548 records with 0 passenger's, will remove the records where count==0"
   ]
  },
  {
   "cell_type": "code",
   "execution_count": null,
   "metadata": {},
   "outputs": [],
   "source": [
    "#************Trip Distance***************\n",
    "\n",
    "#Lets check the frequency of different passenger count\n",
    "\n",
    "#YellowCabJuneData[YellowCabJuneData.trip_distance == 0.0].trip_distance.value_counts()\n",
    "\n",
    "# There are 548 records with 0 passenger's, will remove the records where count==0"
   ]
  },
  {
   "cell_type": "code",
   "execution_count": null,
   "metadata": {},
   "outputs": [],
   "source": [
    "#************Ratecode ID***************\n",
    "\n",
    "#Lets check the frequency of different RateCode ID\n",
    "\n",
    "#YellowCabJuneDataFiltered.RatecodeID.value_counts()\n",
    "\n",
    "# There are 548 records with 0 passenger's, will remove the records where count==0"
   ]
  },
  {
   "cell_type": "code",
   "execution_count": 10,
   "metadata": {},
   "outputs": [],
   "source": [
    "#Data Cleaning\n",
    "\n",
    "YellowCabJuneDataFiltered = YellowCabJuneData[YellowCabJuneData.passenger_count != 0]\n",
    "\n",
    "YellowCabJuneDataFiltered = YellowCabJuneDataFiltered[YellowCabJuneDataFiltered.trip_distance > 0]\n",
    "\n",
    "YellowCabJuneDataFiltered = YellowCabJuneDataFiltered[(YellowCabJuneDataFiltered.RatecodeID >= 1) & \n",
    "                                                      (YellowCabJuneDataFiltered.RatecodeID <=6)]\n",
    "\n",
    "YellowCabJuneDataFiltered = YellowCabJuneDataFiltered[YellowCabJuneDataFiltered.fare_amount >= 0]\n",
    "\n",
    "YellowCabJuneDataFiltered = YellowCabJuneDataFiltered[(YellowCabJuneDataFiltered.extra == 0.0) |\n",
    "                                                     (YellowCabJuneDataFiltered.extra == 0.5) |\n",
    "                                                     (YellowCabJuneDataFiltered.extra == 1.0)]\n",
    "\n",
    "YellowCabJuneDataFiltered = YellowCabJuneDataFiltered[(YellowCabJuneDataFiltered.mta_tax == 0.00) |\n",
    "                                                     (YellowCabJuneDataFiltered.mta_tax == 0.50)]\n",
    "\n",
    "YellowCabJuneDataFiltered = YellowCabJuneDataFiltered[YellowCabJuneDataFiltered.tip_amount >= 0]\n",
    "\n",
    "YellowCabJuneDataFiltered = YellowCabJuneDataFiltered[YellowCabJuneDataFiltered.tolls_amount >= 0]\n",
    "\n",
    "YellowCabJuneDataFiltered = YellowCabJuneDataFiltered[YellowCabJuneDataFiltered.total_amount >= 0]"
   ]
  },
  {
   "cell_type": "code",
   "execution_count": 11,
   "metadata": {},
   "outputs": [
    {
     "data": {
      "text/plain": [
       "(9547617, 17)"
      ]
     },
     "execution_count": 11,
     "metadata": {},
     "output_type": "execute_result"
    }
   ],
   "source": [
    "YellowCabJuneDataFiltered.shape"
   ]
  },
  {
   "cell_type": "code",
   "execution_count": null,
   "metadata": {},
   "outputs": [],
   "source": []
  },
  {
   "cell_type": "markdown",
   "metadata": {},
   "source": [
    "# Feature Engineering"
   ]
  },
  {
   "cell_type": "code",
   "execution_count": 13,
   "metadata": {},
   "outputs": [
    {
     "data": {
      "text/html": [
       "<div>\n",
       "<style scoped>\n",
       "    .dataframe tbody tr th:only-of-type {\n",
       "        vertical-align: middle;\n",
       "    }\n",
       "\n",
       "    .dataframe tbody tr th {\n",
       "        vertical-align: top;\n",
       "    }\n",
       "\n",
       "    .dataframe thead th {\n",
       "        text-align: right;\n",
       "    }\n",
       "</style>\n",
       "<table border=\"1\" class=\"dataframe\">\n",
       "  <thead>\n",
       "    <tr style=\"text-align: right;\">\n",
       "      <th></th>\n",
       "      <th>VendorID</th>\n",
       "      <th>tpep_pickup_datetime</th>\n",
       "      <th>tpep_dropoff_datetime</th>\n",
       "      <th>passenger_count</th>\n",
       "      <th>trip_distance</th>\n",
       "      <th>RatecodeID</th>\n",
       "      <th>store_and_fwd_flag</th>\n",
       "      <th>PULocationID</th>\n",
       "      <th>DOLocationID</th>\n",
       "      <th>payment_type</th>\n",
       "      <th>fare_amount</th>\n",
       "      <th>extra</th>\n",
       "      <th>mta_tax</th>\n",
       "      <th>tip_amount</th>\n",
       "      <th>tolls_amount</th>\n",
       "      <th>improvement_surcharge</th>\n",
       "      <th>total_amount</th>\n",
       "    </tr>\n",
       "  </thead>\n",
       "  <tbody>\n",
       "    <tr>\n",
       "      <th>0</th>\n",
       "      <td>2</td>\n",
       "      <td>2017-06-08 07:52:31</td>\n",
       "      <td>2017-06-08 08:01:32</td>\n",
       "      <td>6</td>\n",
       "      <td>1.03</td>\n",
       "      <td>1</td>\n",
       "      <td>N</td>\n",
       "      <td>161</td>\n",
       "      <td>140</td>\n",
       "      <td>1</td>\n",
       "      <td>7.5</td>\n",
       "      <td>1.0</td>\n",
       "      <td>0.5</td>\n",
       "      <td>1.86</td>\n",
       "      <td>0.0</td>\n",
       "      <td>0.3</td>\n",
       "      <td>11.16</td>\n",
       "    </tr>\n",
       "    <tr>\n",
       "      <th>1</th>\n",
       "      <td>2</td>\n",
       "      <td>2017-06-08 08:08:18</td>\n",
       "      <td>2017-06-08 08:14:00</td>\n",
       "      <td>6</td>\n",
       "      <td>1.03</td>\n",
       "      <td>1</td>\n",
       "      <td>N</td>\n",
       "      <td>162</td>\n",
       "      <td>233</td>\n",
       "      <td>1</td>\n",
       "      <td>6.0</td>\n",
       "      <td>1.0</td>\n",
       "      <td>0.5</td>\n",
       "      <td>2.34</td>\n",
       "      <td>0.0</td>\n",
       "      <td>0.3</td>\n",
       "      <td>10.14</td>\n",
       "    </tr>\n",
       "  </tbody>\n",
       "</table>\n",
       "</div>"
      ],
      "text/plain": [
       "   VendorID tpep_pickup_datetime tpep_dropoff_datetime  passenger_count  \\\n",
       "0         2  2017-06-08 07:52:31   2017-06-08 08:01:32                6   \n",
       "1         2  2017-06-08 08:08:18   2017-06-08 08:14:00                6   \n",
       "\n",
       "   trip_distance  RatecodeID store_and_fwd_flag  PULocationID  DOLocationID  \\\n",
       "0           1.03           1                  N           161           140   \n",
       "1           1.03           1                  N           162           233   \n",
       "\n",
       "   payment_type  fare_amount  extra  mta_tax  tip_amount  tolls_amount  \\\n",
       "0             1          7.5    1.0      0.5        1.86           0.0   \n",
       "1             1          6.0    1.0      0.5        2.34           0.0   \n",
       "\n",
       "   improvement_surcharge  total_amount  \n",
       "0                    0.3         11.16  \n",
       "1                    0.3         10.14  "
      ]
     },
     "execution_count": 13,
     "metadata": {},
     "output_type": "execute_result"
    }
   ],
   "source": [
    "YellowCabJuneDataFiltered.head(2)"
   ]
  },
  {
   "cell_type": "code",
   "execution_count": 14,
   "metadata": {},
   "outputs": [],
   "source": [
    "#Creating Time and Weekday variables.\n",
    "\n",
    "YellowCabJuneDataFiltered['PickupWeekDay'] = YellowCabJuneDataFiltered.tpep_pickup_datetime.apply(lambda t: \n",
    "                                                      datetime.strptime(t, '%Y-%m-%d %H:%M:%S').weekday())\n",
    "YellowCabJuneDataFiltered['PickupHour'] = YellowCabJuneDataFiltered.tpep_pickup_datetime.apply(lambda t: \n",
    "                                                      datetime.strptime(t, '%Y-%m-%d %H:%M:%S').hour)\n",
    "\n",
    "YellowCabJuneDataFiltered['DropoffWeekDay'] = YellowCabJuneDataFiltered.tpep_dropoff_datetime.apply(lambda t: \n",
    "                                                      datetime.strptime(t, '%Y-%m-%d %H:%M:%S').weekday())\n",
    "YellowCabJuneDataFiltered['DropoffHour'] = YellowCabJuneDataFiltered.tpep_dropoff_datetime.apply(lambda t: \n",
    "                                                      datetime.strptime(t, '%Y-%m-%d %H:%M:%S').hour)\n",
    "\n",
    "\n",
    "#Creating a variable on route by combining PickUp and DropOff location ID.\n",
    "\n",
    "YellowCabJuneDataFiltered['Route'] = [str(x) + \"_\" + str(y) for x,y in zip(YellowCabJuneDataFiltered.PULocationID, \n",
    "                                                                         YellowCabJuneDataFiltered.DOLocationID)]"
   ]
  },
  {
   "cell_type": "code",
   "execution_count": 15,
   "metadata": {},
   "outputs": [
    {
     "data": {
      "text/plain": [
       "Index(['VendorID', 'tpep_pickup_datetime', 'tpep_dropoff_datetime',\n",
       "       'passenger_count', 'trip_distance', 'RatecodeID', 'store_and_fwd_flag',\n",
       "       'PULocationID', 'DOLocationID', 'payment_type', 'fare_amount', 'extra',\n",
       "       'mta_tax', 'tip_amount', 'tolls_amount', 'improvement_surcharge',\n",
       "       'total_amount', 'PickupWeekDay', 'PickupHour', 'DropoffWeekDay',\n",
       "       'DropoffHour', 'Route'],\n",
       "      dtype='object')"
      ]
     },
     "execution_count": 15,
     "metadata": {},
     "output_type": "execute_result"
    }
   ],
   "source": [
    "YellowCabJuneDataFiltered.columns\n",
    "\n",
    "#Monday=0, Sunday=6"
   ]
  },
  {
   "cell_type": "code",
   "execution_count": null,
   "metadata": {},
   "outputs": [],
   "source": []
  },
  {
   "cell_type": "markdown",
   "metadata": {},
   "source": [
    "# Data Exploration"
   ]
  },
  {
   "cell_type": "code",
   "execution_count": 16,
   "metadata": {},
   "outputs": [
    {
     "data": {
      "text/plain": [
       "'\\nAnalyzing most number of trips by Week Day, Pickup Hour, Route\\n'"
      ]
     },
     "execution_count": 16,
     "metadata": {},
     "output_type": "execute_result"
    }
   ],
   "source": [
    "\"\"\"\n",
    "Analyzing most number of trips by Week Day, Pickup Hour, Route, tip amount\n",
    "\"\"\""
   ]
  },
  {
   "cell_type": "code",
   "execution_count": 17,
   "metadata": {},
   "outputs": [
    {
     "data": {
      "image/png": "[encoded data removed]",
      "text/plain": [
       "<Figure size 432x288 with 1 Axes>"
      ]
     },
     "metadata": {
      "needs_background": "light"
     },
     "output_type": "display_data"
    }
   ],
   "source": [
    "#Number of trips by Week Day\n",
    "\n",
    "PickupWeekDay = sns.countplot(x=\"PickupWeekDay\", data=YellowCabJuneDataFiltered[['PickupWeekDay']])\n",
    "\n",
    "#Thursday and Friday have the most numbers of trips happen"
   ]
  },
  {
   "cell_type": "code",
   "execution_count": 18,
   "metadata": {},
   "outputs": [
    {
     "data": {
      "image/png": "[encoded data removed]",
      "text/plain": [
       "<Figure size 432x288 with 1 Axes>"
      ]
     },
     "metadata": {
      "needs_background": "light"
     },
     "output_type": "display_data"
    }
   ],
   "source": [
    "#Number of trips by Pickup Hour\n",
    "\n",
    "PickupHour = sns.countplot(x=\"PickupHour\", data=YellowCabJuneDataFiltered[['PickupHour']])\n",
    "\n",
    "#Hour 18, 19, 21, 22 and 20 have the most number of trips in the day"
   ]
  },
  {
   "cell_type": "code",
   "execution_count": 19,
   "metadata": {},
   "outputs": [
    {
     "name": "stderr",
     "output_type": "stream",
     "text": [
      "c:\\users\\swapnil\\appdata\\local\\programs\\python\\python36\\lib\\site-packages\\ipykernel_launcher.py:4: FutureWarning: 'PULocationID' is both an index level and a column label.\n",
      "Defaulting to column, but this will raise an ambiguity error in a future version\n",
      "  after removing the cwd from sys.path.\n"
     ]
    },
    {
     "data": {
      "text/html": [
       "<div>\n",
       "<style scoped>\n",
       "    .dataframe tbody tr th:only-of-type {\n",
       "        vertical-align: middle;\n",
       "    }\n",
       "\n",
       "    .dataframe tbody tr th {\n",
       "        vertical-align: top;\n",
       "    }\n",
       "\n",
       "    .dataframe thead th {\n",
       "        text-align: right;\n",
       "    }\n",
       "</style>\n",
       "<table border=\"1\" class=\"dataframe\">\n",
       "  <thead>\n",
       "    <tr style=\"text-align: right;\">\n",
       "      <th></th>\n",
       "      <th>PULocationID</th>\n",
       "    </tr>\n",
       "    <tr>\n",
       "      <th>PULocationID</th>\n",
       "      <th></th>\n",
       "    </tr>\n",
       "  </thead>\n",
       "  <tbody>\n",
       "    <tr>\n",
       "      <th>237</th>\n",
       "      <td>378064</td>\n",
       "    </tr>\n",
       "    <tr>\n",
       "      <th>161</th>\n",
       "      <td>356561</td>\n",
       "    </tr>\n",
       "    <tr>\n",
       "      <th>236</th>\n",
       "      <td>341940</td>\n",
       "    </tr>\n",
       "    <tr>\n",
       "      <th>162</th>\n",
       "      <td>329360</td>\n",
       "    </tr>\n",
       "    <tr>\n",
       "      <th>186</th>\n",
       "      <td>326718</td>\n",
       "    </tr>\n",
       "  </tbody>\n",
       "</table>\n",
       "</div>"
      ],
      "text/plain": [
       "              PULocationID\n",
       "PULocationID              \n",
       "237                 378064\n",
       "161                 356561\n",
       "236                 341940\n",
       "162                 329360\n",
       "186                 326718"
      ]
     },
     "execution_count": 19,
     "metadata": {},
     "output_type": "execute_result"
    }
   ],
   "source": [
    "#Number of trips by Pickup Location\n",
    "\n",
    "YellowCabJuneDataFiltered.groupby('PULocationID').agg({'PULocationID': 'count'}).sort_values(by=['PULocationID'], \n",
    "                                                                                             ascending=False).head(5)\n",
    "\n",
    "#Top 5 pickup locations are 237, 161, 236, 162 and 186 have the most number of trips"
   ]
  },
  {
   "cell_type": "code",
   "execution_count": 20,
   "metadata": {},
   "outputs": [
    {
     "name": "stderr",
     "output_type": "stream",
     "text": [
      "c:\\users\\swapnil\\appdata\\local\\programs\\python\\python36\\lib\\site-packages\\ipykernel_launcher.py:3: FutureWarning: 'Route' is both an index level and a column label.\n",
      "Defaulting to column, but this will raise an ambiguity error in a future version\n",
      "  This is separate from the ipykernel package so we can avoid doing imports until\n"
     ]
    },
    {
     "data": {
      "text/html": [
       "<div>\n",
       "<style scoped>\n",
       "    .dataframe tbody tr th:only-of-type {\n",
       "        vertical-align: middle;\n",
       "    }\n",
       "\n",
       "    .dataframe tbody tr th {\n",
       "        vertical-align: top;\n",
       "    }\n",
       "\n",
       "    .dataframe thead th {\n",
       "        text-align: right;\n",
       "    }\n",
       "</style>\n",
       "<table border=\"1\" class=\"dataframe\">\n",
       "  <thead>\n",
       "    <tr style=\"text-align: right;\">\n",
       "      <th></th>\n",
       "      <th>Route</th>\n",
       "    </tr>\n",
       "    <tr>\n",
       "      <th>Route</th>\n",
       "      <th></th>\n",
       "    </tr>\n",
       "  </thead>\n",
       "  <tbody>\n",
       "    <tr>\n",
       "      <th>264_264</th>\n",
       "      <td>107208</td>\n",
       "    </tr>\n",
       "    <tr>\n",
       "      <th>237_236</th>\n",
       "      <td>52658</td>\n",
       "    </tr>\n",
       "    <tr>\n",
       "      <th>236_237</th>\n",
       "      <td>44214</td>\n",
       "    </tr>\n",
       "    <tr>\n",
       "      <th>236_236</th>\n",
       "      <td>42845</td>\n",
       "    </tr>\n",
       "    <tr>\n",
       "      <th>237_237</th>\n",
       "      <td>40004</td>\n",
       "    </tr>\n",
       "    <tr>\n",
       "      <th>239_142</th>\n",
       "      <td>25251</td>\n",
       "    </tr>\n",
       "    <tr>\n",
       "      <th>239_238</th>\n",
       "      <td>24962</td>\n",
       "    </tr>\n",
       "    <tr>\n",
       "      <th>237_162</th>\n",
       "      <td>24869</td>\n",
       "    </tr>\n",
       "    <tr>\n",
       "      <th>237_161</th>\n",
       "      <td>24220</td>\n",
       "    </tr>\n",
       "    <tr>\n",
       "      <th>142_239</th>\n",
       "      <td>23133</td>\n",
       "    </tr>\n",
       "  </tbody>\n",
       "</table>\n",
       "</div>"
      ],
      "text/plain": [
       "          Route\n",
       "Route          \n",
       "264_264  107208\n",
       "237_236   52658\n",
       "236_237   44214\n",
       "236_236   42845\n",
       "237_237   40004\n",
       "239_142   25251\n",
       "239_238   24962\n",
       "237_162   24869\n",
       "237_161   24220\n",
       "142_239   23133"
      ]
     },
     "execution_count": 20,
     "metadata": {},
     "output_type": "execute_result"
    }
   ],
   "source": [
    "#Number of trips by Route\n",
    "\n",
    "YellowCabJuneDataFiltered.groupby('Route').agg({'Route': 'count'}).sort_values(by=['Route'], ascending=False).head(10)\n",
    "\n",
    "#Top 10 routes w.r.t the number of trips are 264_264, 237_236, 236_237, 236_236, 237_237, 239_142, 239_238, 237_162,\n",
    "#237_161, 142_239"
   ]
  },
  {
   "cell_type": "code",
   "execution_count": 21,
   "metadata": {},
   "outputs": [
    {
     "name": "stderr",
     "output_type": "stream",
     "text": [
      "c:\\users\\swapnil\\appdata\\local\\programs\\python\\python36\\lib\\site-packages\\ipykernel_launcher.py:4: FutureWarning: 'Route' is both an index level and a column label.\n",
      "Defaulting to column, but this will raise an ambiguity error in a future version\n",
      "  after removing the cwd from sys.path.\n"
     ]
    },
    {
     "data": {
      "text/html": [
       "<div>\n",
       "<style scoped>\n",
       "    .dataframe tbody tr th:only-of-type {\n",
       "        vertical-align: middle;\n",
       "    }\n",
       "\n",
       "    .dataframe tbody tr th {\n",
       "        vertical-align: top;\n",
       "    }\n",
       "\n",
       "    .dataframe thead th {\n",
       "        text-align: right;\n",
       "    }\n",
       "</style>\n",
       "<table border=\"1\" class=\"dataframe\">\n",
       "  <thead>\n",
       "    <tr style=\"text-align: right;\">\n",
       "      <th></th>\n",
       "      <th>Route</th>\n",
       "      <th>tip_amount</th>\n",
       "    </tr>\n",
       "    <tr>\n",
       "      <th>Route</th>\n",
       "      <th></th>\n",
       "      <th></th>\n",
       "    </tr>\n",
       "  </thead>\n",
       "  <tbody>\n",
       "    <tr>\n",
       "      <th>117_223</th>\n",
       "      <td>1</td>\n",
       "      <td>200.000000</td>\n",
       "    </tr>\n",
       "    <tr>\n",
       "      <th>23_113</th>\n",
       "      <td>1</td>\n",
       "      <td>120.000000</td>\n",
       "    </tr>\n",
       "    <tr>\n",
       "      <th>242_168</th>\n",
       "      <td>1</td>\n",
       "      <td>120.000000</td>\n",
       "    </tr>\n",
       "    <tr>\n",
       "      <th>201_234</th>\n",
       "      <td>1</td>\n",
       "      <td>92.000000</td>\n",
       "    </tr>\n",
       "    <tr>\n",
       "      <th>145_12</th>\n",
       "      <td>3</td>\n",
       "      <td>83.333333</td>\n",
       "    </tr>\n",
       "    <tr>\n",
       "      <th>187_23</th>\n",
       "      <td>1</td>\n",
       "      <td>83.000000</td>\n",
       "    </tr>\n",
       "    <tr>\n",
       "      <th>113_5</th>\n",
       "      <td>1</td>\n",
       "      <td>75.880000</td>\n",
       "    </tr>\n",
       "    <tr>\n",
       "      <th>43_86</th>\n",
       "      <td>1</td>\n",
       "      <td>75.240000</td>\n",
       "    </tr>\n",
       "    <tr>\n",
       "      <th>239_39</th>\n",
       "      <td>1</td>\n",
       "      <td>70.840000</td>\n",
       "    </tr>\n",
       "    <tr>\n",
       "      <th>67_1</th>\n",
       "      <td>1</td>\n",
       "      <td>70.000000</td>\n",
       "    </tr>\n",
       "  </tbody>\n",
       "</table>\n",
       "</div>"
      ],
      "text/plain": [
       "         Route  tip_amount\n",
       "Route                     \n",
       "117_223      1  200.000000\n",
       "23_113       1  120.000000\n",
       "242_168      1  120.000000\n",
       "201_234      1   92.000000\n",
       "145_12       3   83.333333\n",
       "187_23       1   83.000000\n",
       "113_5        1   75.880000\n",
       "43_86        1   75.240000\n",
       "239_39       1   70.840000\n",
       "67_1         1   70.000000"
      ]
     },
     "execution_count": 21,
     "metadata": {},
     "output_type": "execute_result"
    }
   ],
   "source": [
    "#Highest avg. tip_amount via route\n",
    "\n",
    "temp = YellowCabJuneDataFiltered.groupby('Route').agg({'Route': 'count', 'tip_amount':'mean'}).sort_values(\n",
    "                                                                by=['tip_amount', 'Route'], ascending=False).head(10)\n",
    "\n",
    "temp\n",
    "#Top 10 routes w.r.t the tip amount are 117_223, 23_113, 242_168, 201_234, 145_12, 187_23, 113_5, 43_86,\n",
    "#239_39, 67_1; But the number of trips on these routes are very minimal (1 or 2)"
   ]
  },
  {
   "cell_type": "code",
   "execution_count": null,
   "metadata": {},
   "outputs": [],
   "source": []
  },
  {
   "cell_type": "code",
   "execution_count": null,
   "metadata": {},
   "outputs": [],
   "source": [
    "YellowCabJuneDataFiltered['PickUpDate'] = YellowCabJuneDataFiltered.tpep_pickup_datetime.apply(lambda t: \n",
    "                                                      datetime.strptime(t, '%Y-%m-%d %H:%M:%S').date())\n"
   ]
  },
  {
   "cell_type": "code",
   "execution_count": 42,
   "metadata": {},
   "outputs": [
    {
     "data": {
      "image/png": "[encoded data removed]",
      "text/plain": [
       "<Figure size 432x288 with 1 Axes>"
      ]
     },
     "metadata": {
      "needs_background": "light"
     },
     "output_type": "display_data"
    }
   ],
   "source": [
    "#Avg Tip Amount based on Week Day\n",
    "\n",
    "temp = YellowCabJuneDataFiltered.groupby(\"PickupWeekDay\").agg({\"tpep_pickup_datetime\": \"count\", \n",
    "                                                        \"tip_amount\":\"sum\", \"PickupWeekDay\":\"first\"})\n",
    "temp['AvgtipAmt'] = temp['tip_amount']/temp['tpep_pickup_datetime']\n",
    "\n",
    "PickupWeekDayTipAmt = sns.barplot(x=\"PickupWeekDay\",y=\"AvgtipAmt\", data=temp)\n",
    "\n",
    "#Wednesday and Thrusday have the highest rate of Avg Tip"
   ]
  },
  {
   "cell_type": "code",
   "execution_count": 43,
   "metadata": {},
   "outputs": [
    {
     "data": {
      "image/png": "[encoded data removed]",
      "text/plain": [
       "<Figure size 432x288 with 1 Axes>"
      ]
     },
     "metadata": {
      "needs_background": "light"
     },
     "output_type": "display_data"
    }
   ],
   "source": [
    "#Avg Tip Amount based on Hour of the day\n",
    "\n",
    "temp = YellowCabJuneDataFiltered.groupby(\"PickupHour\").agg({\"tpep_pickup_datetime\": \"count\", \n",
    "                                                        \"tip_amount\":\"sum\", \"PickupHour\":\"first\"})\n",
    "temp['AvgtipAmt'] = temp['tip_amount']/temp['tpep_pickup_datetime']\n",
    "\n",
    "PickupWeekDayTipAmt = sns.barplot(x=\"PickupHour\",y=\"AvgtipAmt\", data=temp)\n",
    "\n",
    "#Hour 5, 21, 22, 23, and 0 has the highest amount of Avg Tip"
   ]
  },
  {
   "cell_type": "code",
   "execution_count": 75,
   "metadata": {},
   "outputs": [
    {
     "data": {
      "text/html": [
       "<div>\n",
       "<style scoped>\n",
       "    .dataframe tbody tr th:only-of-type {\n",
       "        vertical-align: middle;\n",
       "    }\n",
       "\n",
       "    .dataframe tbody tr th {\n",
       "        vertical-align: top;\n",
       "    }\n",
       "\n",
       "    .dataframe thead th {\n",
       "        text-align: right;\n",
       "    }\n",
       "</style>\n",
       "<table border=\"1\" class=\"dataframe\">\n",
       "  <thead>\n",
       "    <tr style=\"text-align: right;\">\n",
       "      <th></th>\n",
       "      <th>tpep_pickup_datetime</th>\n",
       "      <th>tip_amount</th>\n",
       "      <th>Route</th>\n",
       "      <th>total_amount</th>\n",
       "      <th>AvgtipAmt</th>\n",
       "      <th>AvgtripAmt</th>\n",
       "    </tr>\n",
       "    <tr>\n",
       "      <th>Route</th>\n",
       "      <th></th>\n",
       "      <th></th>\n",
       "      <th></th>\n",
       "      <th></th>\n",
       "      <th></th>\n",
       "      <th></th>\n",
       "    </tr>\n",
       "  </thead>\n",
       "  <tbody>\n",
       "    <tr>\n",
       "      <th>264_264</th>\n",
       "      <td>107208</td>\n",
       "      <td>194746.14</td>\n",
       "      <td>264_264</td>\n",
       "      <td>1.725214e+06</td>\n",
       "      <td>1.816526</td>\n",
       "      <td>16.092209</td>\n",
       "    </tr>\n",
       "    <tr>\n",
       "      <th>237_236</th>\n",
       "      <td>52658</td>\n",
       "      <td>49905.37</td>\n",
       "      <td>237_236</td>\n",
       "      <td>4.435005e+05</td>\n",
       "      <td>0.947726</td>\n",
       "      <td>8.422282</td>\n",
       "    </tr>\n",
       "    <tr>\n",
       "      <th>236_237</th>\n",
       "      <td>44214</td>\n",
       "      <td>45548.57</td>\n",
       "      <td>236_237</td>\n",
       "      <td>4.067602e+05</td>\n",
       "      <td>1.030184</td>\n",
       "      <td>9.199806</td>\n",
       "    </tr>\n",
       "    <tr>\n",
       "      <th>236_236</th>\n",
       "      <td>42845</td>\n",
       "      <td>32050.06</td>\n",
       "      <td>236_236</td>\n",
       "      <td>2.935127e+05</td>\n",
       "      <td>0.748047</td>\n",
       "      <td>6.850571</td>\n",
       "    </tr>\n",
       "    <tr>\n",
       "      <th>237_237</th>\n",
       "      <td>40004</td>\n",
       "      <td>29948.37</td>\n",
       "      <td>237_237</td>\n",
       "      <td>2.891537e+05</td>\n",
       "      <td>0.748634</td>\n",
       "      <td>7.228119</td>\n",
       "    </tr>\n",
       "    <tr>\n",
       "      <th>239_142</th>\n",
       "      <td>25251</td>\n",
       "      <td>22459.85</td>\n",
       "      <td>239_142</td>\n",
       "      <td>1.977863e+05</td>\n",
       "      <td>0.889464</td>\n",
       "      <td>7.832809</td>\n",
       "    </tr>\n",
       "  </tbody>\n",
       "</table>\n",
       "</div>"
      ],
      "text/plain": [
       "         tpep_pickup_datetime  tip_amount    Route  total_amount  AvgtipAmt  \\\n",
       "Route                                                                         \n",
       "264_264                107208   194746.14  264_264  1.725214e+06   1.816526   \n",
       "237_236                 52658    49905.37  237_236  4.435005e+05   0.947726   \n",
       "236_237                 44214    45548.57  236_237  4.067602e+05   1.030184   \n",
       "236_236                 42845    32050.06  236_236  2.935127e+05   0.748047   \n",
       "237_237                 40004    29948.37  237_237  2.891537e+05   0.748634   \n",
       "239_142                 25251    22459.85  239_142  1.977863e+05   0.889464   \n",
       "\n",
       "         AvgtripAmt  \n",
       "Route                \n",
       "264_264   16.092209  \n",
       "237_236    8.422282  \n",
       "236_237    9.199806  \n",
       "236_236    6.850571  \n",
       "237_237    7.228119  \n",
       "239_142    7.832809  "
      ]
     },
     "execution_count": 75,
     "metadata": {},
     "output_type": "execute_result"
    }
   ],
   "source": [
    "#Avg Tip Amount based on the routes\n",
    "\n",
    "temp = YellowCabJuneDataFiltered.groupby(\"Route\").agg({\"tpep_pickup_datetime\": \"count\", \n",
    "                                                        \"tip_amount\":\"sum\", \"Route\":\"first\", \"total_amount\":\"sum\"})\n",
    "temp['AvgtipAmt'] = temp['tip_amount']/temp['tpep_pickup_datetime']\n",
    "temp['AvgtripAmt'] = temp['total_amount']/temp['tpep_pickup_datetime']\n",
    "\n",
    "\n",
    "#Checking for a descent tip amount of 10% of Total amount and more than avg trips (more than 25000) on the route\n",
    "\n",
    "temp[(temp.AvgtipAmt > temp.AvgtripAmt*.1) & (temp.tpep_pickup_datetime > 25000)].sort_values(by=['tpep_pickup_datetime'], \n",
    "                                                                                  ascending=False)\n",
    "\n",
    "#Routes 264_264, 237_236, 236_237, 236_236, 237_237, 239_142 have a decent tip as well as number of trips "
   ]
  },
  {
   "cell_type": "code",
   "execution_count": null,
   "metadata": {},
   "outputs": [],
   "source": []
  }
 ],
 "metadata": {
  "kernelspec": {
   "display_name": "Python 3",
   "language": "python",
   "name": "python3"
  },
  "language_info": {
   "codemirror_mode": {
    "name": "ipython",
    "version": 3
   },
   "file_extension": ".py",
   "mimetype": "text/x-python",
   "name": "python",
   "nbconvert_exporter": "python",
   "pygments_lexer": "ipython3",
   "version": "3.6.5"
  }
 },
 "nbformat": 4,
 "nbformat_minor": 2
}
